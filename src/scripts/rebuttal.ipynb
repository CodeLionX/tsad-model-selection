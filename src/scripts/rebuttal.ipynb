{
 "cells": [
  {
   "cell_type": "code",
   "execution_count": 1,
   "metadata": {},
   "outputs": [],
   "source": [
    "# Copyright Amazon.com, Inc. or its affiliates. All Rights Reserved.\n",
    "# SPDX-License-Identifier: Apache-2.0\n",
    "\n",
    "import numpy as np\n",
    "import pandas as pd\n",
    "import sys\n",
    "sys.path.append('/zfsauton2/home/mgoswami/tsad-model-selection/src')\n",
    "\n",
    "from model_selection.model_selection import RankModels\n",
    "from model_selection.utils import Logger\n",
    "from model_trainer.entities import ANOMALY_ARCHIVE_ENTITIES, MACHINES"
   ]
  },
  {
   "cell_type": "code",
   "execution_count": 2,
   "metadata": {},
   "outputs": [],
   "source": [
    "RESULTS_PATH = r'/home/scratch/mgoswami/results_rebuttal/'  # Directory to save the results\n",
    "TRAINED_MODEL_PATH = r'/home/scratch/mgoswami/trained_models/'\n",
    "DATASET_PATH = r'/home/scratch/mgoswami/datasets/'\n",
    "N_JOBS = 2  # Number of parallel jobs to run\n",
    "\n",
    "# Logging object\n",
    "VERBOSE = False\n",
    "OVERWRITE = True\n",
    "DOWNSAMPLING = 10  # None"
   ]
  },
  {
   "cell_type": "code",
   "execution_count": 8,
   "metadata": {},
   "outputs": [],
   "source": [
    "### Parameters for our Ranking Model\n",
    "rank_model_params = {\n",
    "    'trained_model_path': TRAINED_MODEL_PATH,\n",
    "    'min_length': 256,\n",
    "    'root_dir': DATASET_PATH,\n",
    "    'normalize': True,\n",
    "    'verbose': False,\n",
    "    'dataset': 'smd',\n",
    "    'entity': 'machine-1-1', \n",
    "    'downsampling': 10,\n",
    "}\n",
    "\n",
    "### Parameters for our Evaluation Model\n",
    "evaluate_model_params = {\n",
    "    'n_repeats': 2,\n",
    "    'n_neighbors': [4, 10, 16],\n",
    "    'split': 'test',\n",
    "    'synthetic_ranking_criterion': 'f1',  # Can be one of f1 or prauc\n",
    "    'n_splits': 100,\n",
    "}"
   ]
  },
  {
   "cell_type": "code",
   "execution_count": 9,
   "metadata": {},
   "outputs": [
    {
     "name": "stdout",
     "output_type": "stream",
     "text": [
      "Path to trained models: /home/scratch/mgoswami/trained_models_Oct29/smd/machine-1-1\n"
     ]
    },
    {
     "ename": "FileNotFoundError",
     "evalue": "[Errno 2] No such file or directory: '/home/scratch/mgoswami/trained_models_Oct29/smd/machine-1-1'",
     "output_type": "error",
     "traceback": [
      "\u001b[0;31m---------------------------------------------------------------------------\u001b[0m",
      "\u001b[0;31mFileNotFoundError\u001b[0m                         Traceback (most recent call last)",
      "\u001b[1;32m/zfsauton2/home/mgoswami/tsad-model-selection/src/scripts/rebuttal.ipynb Cell 4\u001b[0m in \u001b[0;36m<cell line: 2>\u001b[0;34m()\u001b[0m\n\u001b[1;32m      <a href='vscode-notebook-cell://ssh-remote%2Bplov11/zfsauton2/home/mgoswami/tsad-model-selection/src/scripts/rebuttal.ipynb#W3sdnNjb2RlLXJlbW90ZQ%3D%3D?line=0'>1</a>\u001b[0m \u001b[39m# Create a ranking object\u001b[39;00m\n\u001b[0;32m----> <a href='vscode-notebook-cell://ssh-remote%2Bplov11/zfsauton2/home/mgoswami/tsad-model-selection/src/scripts/rebuttal.ipynb#W3sdnNjb2RlLXJlbW90ZQ%3D%3D?line=1'>2</a>\u001b[0m ranking_obj \u001b[39m=\u001b[39m RankModels(\u001b[39m*\u001b[39;49m\u001b[39m*\u001b[39;49mrank_model_params)\n",
      "File \u001b[0;32m~/tsad-model-selection/src/model_selection/model_selection.py:56\u001b[0m, in \u001b[0;36mRankModels.__init__\u001b[0;34m(self, dataset, entity, trained_model_path, downsampling, min_length, root_dir, normalize, verbose)\u001b[0m\n\u001b[1;32m     51\u001b[0m \u001b[39mself\u001b[39m\u001b[39m.\u001b[39mTRAINED_MODELS_PATH \u001b[39m=\u001b[39m os\u001b[39m.\u001b[39mpath\u001b[39m.\u001b[39mjoin(trained_model_path, dataset,\n\u001b[1;32m     52\u001b[0m                                         entity)\n\u001b[1;32m     53\u001b[0m \u001b[39mprint\u001b[39m(\u001b[39mf\u001b[39m\u001b[39m'\u001b[39m\u001b[39mPath to trained models: \u001b[39m\u001b[39m{\u001b[39;00m\u001b[39mself\u001b[39m\u001b[39m.\u001b[39mTRAINED_MODELS_PATH\u001b[39m}\u001b[39;00m\u001b[39m'\u001b[39m)\n\u001b[1;32m     55\u001b[0m \u001b[39mself\u001b[39m\u001b[39m.\u001b[39mMODEL_NAMES \u001b[39m=\u001b[39m [\n\u001b[0;32m---> 56\u001b[0m     i\u001b[39m.\u001b[39msplit(\u001b[39m'\u001b[39m\u001b[39m.\u001b[39m\u001b[39m'\u001b[39m)[\u001b[39m0\u001b[39m] \u001b[39mfor\u001b[39;00m i \u001b[39min\u001b[39;00m os\u001b[39m.\u001b[39;49mlistdir(\u001b[39mself\u001b[39;49m\u001b[39m.\u001b[39;49mTRAINED_MODELS_PATH)\n\u001b[1;32m     57\u001b[0m     \u001b[39mif\u001b[39;00m \u001b[39m'\u001b[39m\u001b[39mpth\u001b[39m\u001b[39m'\u001b[39m \u001b[39min\u001b[39;00m i\u001b[39m.\u001b[39msplit(\u001b[39m'\u001b[39m\u001b[39m.\u001b[39m\u001b[39m'\u001b[39m)[\u001b[39m1\u001b[39m]\n\u001b[1;32m     58\u001b[0m ]\n\u001b[1;32m     59\u001b[0m \u001b[39mprint\u001b[39m(\u001b[39mf\u001b[39m\u001b[39m'\u001b[39m\u001b[39mModels in the model set: \u001b[39m\u001b[39m{\u001b[39;00m\u001b[39mself\u001b[39m\u001b[39m.\u001b[39mMODEL_NAMES\u001b[39m}\u001b[39;00m\u001b[39m'\u001b[39m)\n\u001b[1;32m     60\u001b[0m \u001b[39mprint\u001b[39m(\n\u001b[1;32m     61\u001b[0m     \u001b[39mf\u001b[39m\u001b[39m'\u001b[39m\u001b[39mTotal number of models in the model set: \u001b[39m\u001b[39m{\u001b[39;00m\u001b[39mlen\u001b[39m(\u001b[39mself\u001b[39m\u001b[39m.\u001b[39mMODEL_NAMES)\u001b[39m}\u001b[39;00m\u001b[39m'\u001b[39m\n\u001b[1;32m     62\u001b[0m )\n",
      "\u001b[0;31mFileNotFoundError\u001b[0m: [Errno 2] No such file or directory: '/home/scratch/mgoswami/trained_models_Oct29/smd/machine-1-1'"
     ]
    }
   ],
   "source": [
    "# Create a ranking object\n",
    "ranking_obj = RankModels(**rank_model_params)\n",
    "# _ = ranking_obj.evaluate_models(**evaluate_model_params)"
   ]
  }
 ],
 "metadata": {
  "kernelspec": {
   "display_name": "Python 3.9.13",
   "language": "python",
   "name": "python3"
  },
  "language_info": {
   "codemirror_mode": {
    "name": "ipython",
    "version": 3
   },
   "file_extension": ".py",
   "mimetype": "text/x-python",
   "name": "python",
   "nbconvert_exporter": "python",
   "pygments_lexer": "ipython3",
   "version": "3.9.13"
  },
  "orig_nbformat": 4,
  "vscode": {
   "interpreter": {
    "hash": "fc90832dd7a8e9eab4f48f0b82095ca13471e8bc63377baac035474c7a6dfd79"
   }
  }
 },
 "nbformat": 4,
 "nbformat_minor": 2
}
