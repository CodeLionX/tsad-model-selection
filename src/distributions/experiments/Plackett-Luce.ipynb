{
 "cells": [
  {
   "cell_type": "markdown",
   "metadata": {},
   "source": [
    "# Plackett-Luce Distribution"
   ]
  },
  {
   "cell_type": "code",
   "execution_count": null,
   "metadata": {},
   "outputs": [],
   "source": [
    "# Copyright Amazon.com, Inc. or its affiliates. All Rights Reserved.\n",
    "# SPDX-License-Identifier: Apache-2.0\n",
    "\n",
    "from distributions.pl_model import PlackettLuce\n",
    "import distributions.mallows_kendall as mk"
   ]
  },
  {
   "cell_type": "markdown",
   "metadata": {},
   "source": [
    "The Plackett-Luce distribution is defined over permutations of fixed length. It is parameterized by a positive score vector of same length.  \n",
    "\n",
    "The Plackett-Luce is a distribution over permutation vectors p of length k where the permutation p is an arbitrary ordering of k indices {0, 1, ..., k-1}.\n",
    "\n",
    "The probability mass function (pmf) is,\n",
    "\n",
    "\\begin{align*}\n",
    "pmf(p; s) &= \\prod_i \\frac{s_{p_i}}{(Z - Z_i)} \\\\\n",
    "Z &= \\sum_{j=0}^{k-1} s_j \\\\\n",
    "Z_i &= \\sum_{j=0}^{i-1} s_{p_j} \\ \\text{ for } i>0 \\text{ and } 0 \\text{ for } i=0\n",
    "\\end{align*}"
   ]
  },
  {
   "cell_type": "code",
   "execution_count": null,
   "metadata": {},
   "outputs": [],
   "source": [
    "scores = np.arange(1, 11)\n",
    "dist = PlackettLuce(scores)\n",
    "samples = dist.sample(size=10)"
   ]
  },
  {
   "cell_type": "code",
   "execution_count": null,
   "metadata": {},
   "outputs": [],
   "source": [
    "samples"
   ]
  }
 ],
 "metadata": {
  "kernelspec": {
   "display_name": "Python 3 (ipykernel)",
   "language": "python",
   "name": "python3"
  },
  "language_info": {
   "codemirror_mode": {
    "name": "ipython",
    "version": 3
   },
   "file_extension": ".py",
   "mimetype": "text/x-python",
   "name": "python",
   "nbconvert_exporter": "python",
   "pygments_lexer": "ipython3",
   "version": "3.8.9"
  },
  "vscode": {
   "interpreter": {
    "hash": "31f2aee4e71d21fbe5cf8b01ff0e069b9275f58929596ceb00d14d90e3e16cd6"
   }
  }
 },
 "nbformat": 4,
 "nbformat_minor": 2
}
