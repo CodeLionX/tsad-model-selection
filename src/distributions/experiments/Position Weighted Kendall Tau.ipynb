{
 "cells": [
  {
   "cell_type": "code",
   "execution_count": 1,
   "metadata": {},
   "outputs": [],
   "source": [
    "# Copyright Amazon.com, Inc. or its affiliates. All Rights Reserved.\n",
    "# SPDX-License-Identifier: Apache-2.0\n",
    "\n",
    "import numpy as np\n",
    "from distributions import mallows_kendall as mk\n",
    "from distributions import permutil as pu\n",
    "from distributions import sampling\n",
    "import scipy as sp\n",
    "import pandas as pd"
   ]
  },
  {
   "cell_type": "code",
   "execution_count": null,
   "metadata": {},
   "outputs": [],
   "source": [
    "sigma1 = np.array([0, 1, 2, 3])\n",
    "sigma2 = np.array([1, 2, 0, 3])\n",
    "sigma = sigma1[np.argsort(sigma2)]\n",
    "print(np.argsort(sigma))\n",
    "mk.distance(sigma)"
   ]
  },
  {
   "cell_type": "code",
   "execution_count": null,
   "metadata": {},
   "outputs": [],
   "source": [
    "from typing import Optional, Union\n",
    "\n",
    "def position_weighted_distance(sigma:np.ndarray, delta:Optional[Union[str, np.ndarray]]='dcg', k:Optional[int]=3, verbose:bool=True):\n",
    "    n = len(sigma)\n",
    "\n",
    "    if delta is None: mk.distance(sigma) \n",
    "    if isinstance(delta, np.ndarray):\n",
    "        _delta = delta.copy()\n",
    "    elif isinstance(delta, str):\n",
    "        _delta = np.ones(n)\n",
    "        if delta == 'dcg':\n",
    "            i = np.arange(1, n)\n",
    "            _delta[1:] = 1/np.log2(i + 1) - 1/np.log2(i + 2)\n",
    "            \n",
    "        elif delta == 'topk':\n",
    "            _delta[k:] = 0\n",
    "    if verbose: \n",
    "        print('Delta', _delta)\n",
    "    p = np.ones(n)\n",
    "    \n",
    "    for i in range(1, n):\n",
    "        p[i] = p[i-1] + _delta[i]\n",
    "\n",
    "    denominator = np.arange(n) - sigma\n",
    "    msk = np.where(denominator == 0)[0]\n",
    "    denominator[msk] = 1\n",
    "    p_bar = (p - p[sigma])/denominator\n",
    "    p_bar[msk] = 1\n",
    "    \n",
    "    V = 0\n",
    "    for j, sigma_j in enumerate(sigma):\n",
    "        for i in range(0, j):\n",
    "            if sigma_j < sigma[i]:\n",
    "                V += 1 * p_bar[i] * p_bar[j]\n",
    "        \n",
    "    return V"
   ]
  },
  {
   "cell_type": "code",
   "execution_count": null,
   "metadata": {},
   "outputs": [],
   "source": [
    "position_weighted_distance(sigma, delta='dcg')"
   ]
  },
  {
   "cell_type": "code",
   "execution_count": null,
   "metadata": {},
   "outputs": [],
   "source": [
    "sigma1 = np.array([0, 1, 2, 3])\n",
    "sigma2 = np.array([1, 2, 3, 0])\n",
    "sigma = sigma1[np.argsort(sigma2)]\n",
    "print(np.argsort(sigma))\n",
    "mk.distance(sigma)"
   ]
  },
  {
   "cell_type": "code",
   "execution_count": null,
   "metadata": {},
   "outputs": [],
   "source": [
    "position_weighted_distance(sigma, delta='dcg')"
   ]
  }
 ],
 "metadata": {
  "kernelspec": {
   "display_name": "Python 3 (ipykernel)",
   "language": "python",
   "name": "python3"
  },
  "language_info": {
   "codemirror_mode": {
    "name": "ipython",
    "version": 3
   },
   "file_extension": ".py",
   "mimetype": "text/x-python",
   "name": "python",
   "nbconvert_exporter": "python",
   "pygments_lexer": "ipython3",
   "version": "3.8.9"
  },
  "vscode": {
   "interpreter": {
    "hash": "497aa39221a2d595828a5630e1312db983d7ad61c3e1a02713fefe171df4cc42"
   }
  }
 },
 "nbformat": 4,
 "nbformat_minor": 2
}
