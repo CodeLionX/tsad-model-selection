{
 "cells": [
  {
   "cell_type": "code",
   "execution_count": 1,
   "metadata": {},
   "outputs": [],
   "source": [
    "from tsadams.model_trainer.train import TrainModels\n",
    "from tsadams.utils.config import Config"
   ]
  },
  {
   "cell_type": "code",
   "execution_count": 2,
   "metadata": {},
   "outputs": [],
   "source": [
    "args = Config(config_file_path='../configs/config.yml').parse()"
   ]
  },
  {
   "cell_type": "code",
   "execution_count": 4,
   "metadata": {},
   "outputs": [
    {
     "name": "stdout",
     "output_type": "stream",
     "text": [
      "Number of entities: 1\n",
      "Using the first 100\\% of the training data to train the models.\n"
     ]
    }
   ],
   "source": [
    "model_trainer = TrainModels(dataset='smd',\n",
    "                        entity='machine-2-8',\n",
    "                        downsampling=args['downsampling'],\n",
    "                        min_length=args['min_length'],\n",
    "                        root_dir=args['dataset_path'],\n",
    "                        training_size=args['training_size'],\n",
    "                        overwrite=False,\n",
    "                        verbose=args['verbose'],\n",
    "                        save_dir=args['trained_model_path'])"
   ]
  },
  {
   "cell_type": "code",
   "execution_count": 5,
   "metadata": {},
   "outputs": [
    {
     "data": {
      "text/plain": [
       "<tsadams.datasets.dataset.Dataset at 0x7fed2c4000a0>"
      ]
     },
     "execution_count": 5,
     "metadata": {},
     "output_type": "execute_result"
    }
   ],
   "source": [
    "model_trainer.train_data"
   ]
  }
 ],
 "metadata": {
  "kernelspec": {
   "display_name": "Python 3",
   "language": "python",
   "name": "python3"
  },
  "language_info": {
   "codemirror_mode": {
    "name": "ipython",
    "version": 3
   },
   "file_extension": ".py",
   "mimetype": "text/x-python",
   "name": "python",
   "nbconvert_exporter": "python",
   "pygments_lexer": "ipython3",
   "version": "3.9.15"
  },
  "orig_nbformat": 4,
  "vscode": {
   "interpreter": {
    "hash": "de7cb3013475a06e344d43e718aadd6e1f9760e7081819285de8571862d2212e"
   }
  }
 },
 "nbformat": 4,
 "nbformat_minor": 2
}
