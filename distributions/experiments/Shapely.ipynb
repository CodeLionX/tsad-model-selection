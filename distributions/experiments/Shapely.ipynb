{
 "cells": [
  {
   "cell_type": "code",
   "execution_count": 2,
   "metadata": {},
   "outputs": [],
   "source": [
    "# Copyright Amazon.com, Inc. or its affiliates. All Rights Reserved.\n",
    "# SPDX-License-Identifier: Apache-2.0\n",
    "\n",
    "import scipy\n",
    "import numpy as np\n",
    "from itertools import combinations\n",
    "from scipy.optimize import curve_fit\n",
    "import statsmodels.api as sm\n",
    "from tqdm import trange, tqdm\n",
    "from distributions.sampling import sample_mallows_with_noise\n",
    "from model_selection.rank_aggregation import borda, trimmed_borda, kemeny, trimmed_kemeny\n",
    "\n",
    "KERNEL_CACHE = {}    "
   ]
  },
  {
   "cell_type": "code",
   "execution_count": null,
   "metadata": {},
   "outputs": [],
   "source": [
    "def objective(ranks, aggregation_type='kemeny'):\n",
    "    if aggregation_type == 'borda':\n",
    "        _, sigma_star = borda(ranks=ranks, weights=None)\n",
    "    elif aggregation_type == 'kemeny':\n",
    "        _, sigma_star = kemeny(ranks=ranks, weights=None, verbose=False)\n",
    "    return np.mean([mk.distance(r, sigma_star) for r in ranks])\n",
    "    \n",
    "def kernel_weight(u, t): \n",
    "    if u == t: \n",
    "        return 1e12\n",
    "    if (u, t) in KERNEL_CACHE.keys():\n",
    "        return KERNEL_CACHE[(u, t)]\n",
    "    else: \n",
    "        KERNEL_CACHE[(u, t)] = (u - 1)/(scipy.special.comb(u, t)*t*(u-t))\n",
    "        return KERNEL_CACHE[(u, t)]"
   ]
  },
  {
   "cell_type": "code",
   "execution_count": null,
   "metadata": {},
   "outputs": [],
   "source": [
    "def kernel_shapely(ranks, aggregation_type='borda'):\n",
    "    u = ranks.shape[0]\n",
    "    \n",
    "    X = [] # \\sum_{j \\in T} \\phi_j\n",
    "    y = [] # g(T)\n",
    "    w = [] # k(U, T)\n",
    "    for t in trange(1, u+1):\n",
    "        for T in combinations(np.arange(u), t):\n",
    "            y.append(objective(ranks[T, :], aggregation_type=aggregation_type)) \n",
    "            x = np.zeros((1, u))\n",
    "            x[0, T] = 1\n",
    "            X.append(x)\n",
    "            w.append(kernel_weight(u, t))\n",
    "\n",
    "    X = np.concatenate(X, axis=0)\n",
    "    X = sm.add_constant(X)\n",
    "\n",
    "    wls_model = sm.WLS(y, X, weights=w)\n",
    "    wls_model = wls_model.fit()\n",
    "\n",
    "    phi = wls_model.params\n",
    "    return phi\n"
   ]
  },
  {
   "cell_type": "code",
   "execution_count": null,
   "metadata": {},
   "outputs": [],
   "source": [
    "parameters = {\n",
    "    'N' : 15, # Number of permutations\n",
    "    'n' : 30, # Number of items\n",
    "    'theta' : 0.1,\n",
    "    'noise': 0.5,\n",
    "    'type': 'random', \n",
    "    'seed': 0\n",
    "    } \n",
    "\n",
    "ranks, n_noisy, n_mallows = sample_mallows_with_noise(**parameters)\n",
    "N, n = ranks.shape\n",
    "colors = n_mallows*['darkblue']\n",
    "colors.extend(n_noisy*['red'])"
   ]
  },
  {
   "cell_type": "code",
   "execution_count": null,
   "metadata": {},
   "outputs": [],
   "source": [
    "wls_model = kernel_shapely(ranks, aggregation_type='borda')"
   ]
  },
  {
   "cell_type": "code",
   "execution_count": null,
   "metadata": {},
   "outputs": [],
   "source": [
    "dist_from_true_rank = np.array([mk.distance(r) for r in ranks])"
   ]
  },
  {
   "cell_type": "code",
   "execution_count": null,
   "metadata": {},
   "outputs": [],
   "source": [
    "plt.style.use('ggplot')\n",
    "figure, axis = plt.subplots(1, 1, figsize=(4, 4), sharey=True)\n",
    "axis.scatter(wls_model.params[1:], dist_from_true_rank, c=colors, alpha=0.7)\n",
    "axis.set_xlabel('Shapely Value of Permutation', fontsize=12)\n",
    "axis.set_ylabel('Distance from Central Permutation', fontsize=12)"
   ]
  }
 ],
 "metadata": {
  "kernelspec": {
   "display_name": "Python 3 (ipykernel)",
   "language": "python",
   "name": "python3"
  },
  "language_info": {
   "codemirror_mode": {
    "name": "ipython",
    "version": 3
   },
   "file_extension": ".py",
   "mimetype": "text/x-python",
   "name": "python",
   "nbconvert_exporter": "python",
   "pygments_lexer": "ipython3",
   "version": "3.8.9"
  },
  "vscode": {
   "interpreter": {
    "hash": "497aa39221a2d595828a5630e1312db983d7ad61c3e1a02713fefe171df4cc42"
   }
  }
 },
 "nbformat": 4,
 "nbformat_minor": 2
}
