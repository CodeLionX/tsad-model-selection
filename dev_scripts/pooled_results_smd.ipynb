{
 "cells": [
  {
   "cell_type": "code",
   "execution_count": 5,
   "metadata": {},
   "outputs": [],
   "source": [
    "# Copyright Amazon.com, Inc. or its affiliates. All Rights Reserved.\n",
    "# SPDX-License-Identifier: Apache-2.0\n",
    "\n",
    "import pandas as pd\n",
    "import os\n",
    "import pickle as pkl\n",
    "import numpy as np\n",
    "import matplotlib.pyplot as plt\n",
    "\n",
    "from datetime import datetime\n",
    "from evaluation.evaluation import get_pooled_aggregate_stats\n",
    "from sklearn.model_selection import ParameterGrid\n"
   ]
  },
  {
   "cell_type": "markdown",
   "metadata": {},
   "source": [
    "```Python\n",
    "for each dataset in {smd, arterial blood, nasa, ...}:\n",
    "   for each cross-valid fold in range(5):\n",
    "      selection = 20% of all entities\n",
    "      evaluation = 80% of all entities\n",
    "\n",
    "      oracle_method = select based on selection set\n",
    "      oracle_result = perf of oracle_method on evaluation\n",
    "      random_result = mean on evaluation set\n",
    "      for each unsupervised ranking metric:\n",
    "          ranking_method_i = select one model for all of evaluation\n",
    "          ranking_result_i = perf of ranking_method_i on evaluation\n",
    "```"
   ]
  },
  {
   "cell_type": "code",
   "execution_count": null,
   "metadata": {},
   "outputs": [],
   "source": [
    "with open('pooled_aggregate_stats.pkl', 'rb') as f:\n",
    "    aggregate_stats = pkl.load(f)"
   ]
  },
  {
   "cell_type": "code",
   "execution_count": null,
   "metadata": {},
   "outputs": [],
   "source": [
    "plt.style.use('ggplot')\n",
    "fig, axes = plt.subplots(1, 1, figsize=(6, 2*len(aggregate_stats.keys())), sharey=True, sharex=True)\n",
    "    \n",
    "result_table = {}\n",
    "axes.set_title(f\"Server Machine Dataset\", fontsize=10)    \n",
    "_ = axes.boxplot([i[1] for i in aggregate_stats.items() if '/' in i[0]], \n",
    "                vert=False, \n",
    "                bootstrap=10000,\n",
    "                showmeans=True,\n",
    "                meanline=True, \n",
    "                labels = [i[0].split('/')[0] for i in aggregate_stats.items() if '/' in i[0]])\n",
    "\n",
    "# plt.savefig(f\"box_plot_{dataset}_{metric}_{evaluation_metric}_per_entity_{datetime.today().strftime(r'%H-%M-%m-%d-%Y')}.pdf\", bbox_inches='tight')\n",
    "plt.show()"
   ]
  }
 ],
 "metadata": {
  "kernelspec": {
   "display_name": "Python 3 (ipykernel)",
   "language": "python",
   "name": "python3"
  },
  "language_info": {
   "codemirror_mode": {
    "name": "ipython",
    "version": 3
   },
   "file_extension": ".py",
   "mimetype": "text/x-python",
   "name": "python",
   "nbconvert_exporter": "python",
   "pygments_lexer": "ipython3",
   "version": "3.8.9"
  },
  "vscode": {
   "interpreter": {
    "hash": "497aa39221a2d595828a5630e1312db983d7ad61c3e1a02713fefe171df4cc42"
   }
  }
 },
 "nbformat": 4,
 "nbformat_minor": 2
}
