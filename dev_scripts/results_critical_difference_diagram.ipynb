{
 "cells": [
  {
   "cell_type": "code",
   "execution_count": null,
   "metadata": {},
   "outputs": [],
   "source": [
    "# Copyright Amazon.com, Inc. or its affiliates. All Rights Reserved.\n",
    "# SPDX-License-Identifier: Apache-2.0\n",
    "\n",
    "import pandas as pd\n",
    "import os\n",
    "import pickle as pkl\n",
    "import numpy as np\n",
    "import matplotlib.pyplot as plt\n",
    "from model_trainer.entities import ANOMALY_ARCHIVE_ENTITIES, MACHINES, MSL_CHANNELS, SMAP_CHANNELS, ANOMALY_ARCHIVE_ENTITY_TO_DATA_FAMILY\n",
    "from metrics.metrics import METRICS_NAMES, evaluate_model_selection\n",
    "from model_selection.rank_aggregation import trimmed_borda, trimmed_kemeny, borda, kemeny\n",
    "\n",
    "from sklearn.cluster import AgglomerativeClustering\n",
    "from scipy.spatial.distance import pdist, squareform\n",
    "from sklearn.metrics import ndcg_score\n",
    "from tqdm import tqdm \n",
    "from mallows import mallows_kendall as mk\n",
    "from datetime import datetime\n",
    "from pprint import pprint"
   ]
  },
  {
   "cell_type": "code",
   "execution_count": null,
   "metadata": {},
   "outputs": [],
   "source": [
    "SAVE_DIR = '/home/ubuntu/efs/results'\n",
    "\n",
    "DATASETS = ['anomaly_archive', 'smd', 'msl', 'smap']\n",
    "ENTITIES = [ANOMALY_ARCHIVE_ENTITIES, MACHINES, MSL_CHANNELS, SMAP_CHANNELS]\n",
    "DATASET_ENTITY = dict(zip(DATASETS, ENTITIES))"
   ]
  },
  {
   "cell_type": "code",
   "execution_count": null,
   "metadata": {},
   "outputs": [],
   "source": [
    "dataset = 'smd'\n",
    "\n",
    "cd_stats = []\n",
    "for entity in tqdm(DATASET_ENTITY[dataset]): \n",
    "    ranking_obj_file = f'ranking_obj_{entity}.data'\n",
    "    try:\n",
    "        with open(os.path.join(SAVE_DIR, dataset, ranking_obj_file), 'rb') as f: \n",
    "            ranking_obj = pkl.load(f)\n",
    "        \n",
    "        ranks = ranking_obj.ranks_by_metrics.astype(int)\n",
    "        rank_prauc = ranking_obj.rank_prauc.astype(int)\n",
    "        rank_f1 = ranking_obj.rank_f1.astype(int)\n",
    "\n",
    "    except: \n",
    "        continue\n",
    "    \n",
    "    if ranks.shape[1] != 19:\n",
    "        print(entity, ranks.shape[1])\n",
    "        continue\n",
    "\n",
    "    # Get metric names\n",
    "    metric_names = list(ranking_obj.models_performance_matrix.columns)\n",
    "    metric_names.remove('PR-AUC')\n",
    "    metric_names.remove('Best F-1')\n",
    "\n",
    "    average_dist_of_ranks = squareform(pdist(ranks, metric=mk.distance)).mean(axis=1)\n",
    "    clustering = AgglomerativeClustering(n_clusters=2, linkage='single').fit_predict(average_dist_of_ranks.reshape((-1, 1)))\n",
    "    cluster_ids, counts = np.unique(clustering, return_counts=True)\n",
    "    max_cluster = cluster_ids[np.argmax(counts)]\n",
    "    _, trimmed_kemeny_rank = kemeny(ranks[np.where(clustering == max_cluster)[0], :], verbose=False)\n",
    "    trimmed_kemeny_rank = trimmed_kemeny_rank.astype(int)\n",
    "\n",
    "    _, kemeny_rank = kemeny(ranks, verbose=False)\n",
    "    kemeny_rank = kemeny_rank.astype(int)\n",
    "\n",
    "    praucs = ranking_obj.models_performance_matrix.iloc[:, 0].to_numpy().squeeze()\n",
    "    f1s = ranking_obj.models_performance_matrix.iloc[:, 1].to_numpy().squeeze()\n",
    "    model_names = np.array(list(ranking_obj.models_performance_matrix.index))\n",
    "    \n",
    "    if np.std(praucs) == 0.0: # Bad datasets have 0.5 prauc for all models\n",
    "        continue\n",
    "\n",
    "    # if max(praucs) < 0.5: # Bad models\n",
    "    #     continue\n",
    "    \n",
    "    for i, mn in enumerate(model_names): \n",
    "        cd_stats.append([entity, \n",
    "                         mn, \n",
    "                         ranking_obj.models_performance_matrix.iloc[i, 0], \n",
    "                         ranking_obj.models_performance_matrix.iloc[i, 1]])\n",
    "    cd_stats.append([entity, 'Trimmed Aggregation', \n",
    "                     praucs[trimmed_kemeny_rank[0]], \n",
    "                     f1s[trimmed_kemeny_rank[0]]])\n",
    "    cd_stats.append([entity, 'Untrimmed Aggregation', \n",
    "                     praucs[kemeny_rank[0]], \n",
    "                     f1s[kemeny_rank[0]]])\n",
    "    cd_stats.append([entity, 'Best Model', np.max(praucs), np.max(praucs)])\n",
    "    # cd_stats.append([entity, 'Randomly Chosen Model', np.mean(praucs), np.mean(praucs)])"
   ]
  },
  {
   "cell_type": "code",
   "execution_count": null,
   "metadata": {},
   "outputs": [],
   "source": [
    "cd_stats = pd.DataFrame(np.array(cd_stats), columns=['dataset_name', 'classifier_name', 'prauc', 'f1'], index=None)\n",
    "cd_stats"
   ]
  },
  {
   "cell_type": "code",
   "execution_count": null,
   "metadata": {},
   "outputs": [],
   "source": [
    "perf_data = cd_stats.loc[:, ['dataset_name', 'classifier_name', 'prauc']]\n",
    "perf_data = perf_data.rename(columns={\"prauc\": \"accuracy\"})"
   ]
  },
  {
   "cell_type": "code",
   "execution_count": null,
   "metadata": {},
   "outputs": [],
   "source": [
    "from data.cd_diagram import draw_cd_diagram\n",
    "draw_cd_diagram(df_perf=perf_data, title='PR-AUC', labels=True)"
   ]
  }
 ],
 "metadata": {
  "kernelspec": {
   "display_name": "Python 3 (ipykernel)",
   "language": "python",
   "name": "python3"
  },
  "language_info": {
   "codemirror_mode": {
    "name": "ipython",
    "version": 3
   },
   "file_extension": ".py",
   "mimetype": "text/x-python",
   "name": "python",
   "nbconvert_exporter": "python",
   "pygments_lexer": "ipython3",
   "version": "3.8.9"
  },
  "vscode": {
   "interpreter": {
    "hash": "31f2aee4e71d21fbe5cf8b01ff0e069b9275f58929596ceb00d14d90e3e16cd6"
   }
  }
 },
 "nbformat": 4,
 "nbformat_minor": 2
}
